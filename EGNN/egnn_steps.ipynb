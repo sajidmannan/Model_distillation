{
 "cells": [
  {
   "cell_type": "code",
   "execution_count": 25,
   "metadata": {},
   "outputs": [],
   "source": [
    "import numpy as np\n",
    "import random\n",
    "import argparse\n",
    "import torch \n",
    "import torch.nn as nn\n",
    "from torch.autograd import grad \n",
    "import torch_geometric \n",
    "from torch_geometric.data import Data\n",
    "from torch_geometric.loader import DataLoader\n",
    "from torch_geometric.nn.pool import global_add_pool\n",
    "import sys \n",
    "import time\n",
    "import wandb\n",
    "from tqdm import tqdm\n",
    "sys.path.append(\"egnn/\")\n",
    "from models.egnn_clean import egnn_clean as eg\n",
    "from model import EGNN_Ener\n",
    "from tqdm import tqdm"
   ]
  },
  {
   "cell_type": "code",
   "execution_count": 4,
   "metadata": {},
   "outputs": [
    {
     "data": {
      "text/plain": [
       "Data(edge_index=[2, 298], cell=[3, 3], charges=[21], energy=-17635.845703125, energy_weight=1.0, forces=[21, 3], forces_weight=1.0, node_attrs=[21, 3], positions=[21, 3], shifts=[298, 3], stress=[1, 3, 3], stress_weight=0.0, unit_shifts=[298, 3], virials=[1, 3, 3], virials_weight=0.0, weight=1.0)"
      ]
     },
     "execution_count": 4,
     "metadata": {},
     "output_type": "execute_result"
    }
   ],
   "source": [
    "dataset = torch.load(\"/home/distileq/home/code/EGNN/Datasets/aspirin/train_full_pyg.pth\")\n",
    "dataset[0]"
   ]
  },
  {
   "cell_type": "code",
   "execution_count": 31,
   "metadata": {},
   "outputs": [],
   "source": [
    "class EGNN_Ener(nn.Module):\n",
    "    def __init__(\n",
    "        self, \n",
    "        node_input_dim=3, \n",
    "        node_output_dim=3, \n",
    "        edge_input_dim=3,\n",
    "        hidden_dim=32, \n",
    "        num_layers=2\n",
    "        ):\n",
    "        super().__init__()\n",
    "        # self.proj_layer = nn.Linear(3, node_output_dim, bias=False)\n",
    "        self.egnn = eg.EGNN(\n",
    "                            in_node_nf=node_input_dim, \n",
    "                            hidden_nf=hidden_dim, \n",
    "                            out_node_nf=node_output_dim, \n",
    "                            in_edge_nf=edge_input_dim, \n",
    "                            n_layers=num_layers\n",
    "                        )\n",
    "        self.linear = nn.Linear(node_output_dim, 3, bias=False)\n",
    "        # self.linear = nn.Linear(3, 3, bias=False)\n",
    "\n",
    "\n",
    "    def forward(self, batch, device):\n",
    "        h = batch['node_attrs']\n",
    "        x_orig = batch['positions'].to(device) \n",
    "        # x_proj = self.proj_layer(x_orig)    # project coordinates into embeddings \n",
    "        edges = [row for row in batch['edge_index']]\n",
    "        edge_attr = x_orig[edges[0]]-x_orig[edges[1]]\n",
    "        h_new, x_new = self.egnn(h, x_orig, edges, edge_attr)\n",
    "        pred_forces = self.linear(x_new)\n",
    "        return pred_forces"
   ]
  },
  {
   "cell_type": "code",
   "execution_count": 32,
   "metadata": {},
   "outputs": [],
   "source": [
    "device = torch.device(\"cuda\")\n",
    "train_loader = DataLoader(dataset, batch_size=10, shuffle=True)\n",
    "model = EGNN_Ener(node_input_dim=dataset[0]['node_attrs'].shape[1],\n",
    "                      node_output_dim=3,\n",
    "                      edge_input_dim=3, \n",
    "                      hidden_dim=64,\n",
    "                      num_layers=2\n",
    "                      ).to(device)\n",
    "batch = next(iter(train_loader)).to(device)\n",
    "preds = model(batch, device)"
   ]
  },
  {
   "cell_type": "code",
   "execution_count": 33,
   "metadata": {},
   "outputs": [],
   "source": [
    "def loss_fn(pred_forces, batch):\n",
    "    if 'is_root' in batch:\n",
    "        root_nodes = batch['is_root']\n",
    "        return torch.mean(torch.square(batch[\"forces\"][root_nodes] - pred_forces[root_nodes]))\n",
    "    else:\n",
    "        return torch.mean(torch.square(batch[\"forces\"] - pred_forces))"
   ]
  },
  {
   "cell_type": "code",
   "execution_count": 34,
   "metadata": {},
   "outputs": [
    {
     "name": "stderr",
     "output_type": "stream",
     "text": [
      "100%|██████████| 500/500 [07:23<00:00,  1.13it/s]\n"
     ]
    }
   ],
   "source": [
    "model.train()\n",
    "train_loss = 0\n",
    "train_epoch_losses = []\n",
    "optimizer = torch.optim.Adam(model.parameters(), lr=1e-4)\n",
    "\n",
    "for epoch in tqdm(range(500)):\n",
    "    train_loss = 0\n",
    "    for batch in train_loader:\n",
    "        batch = batch.to(device)\n",
    "        optimizer.zero_grad()\n",
    "        pred_forces = model(batch, device)\n",
    "        loss = loss_fn(pred_forces, batch)\n",
    "        loss.backward()\n",
    "        optimizer.step()\n",
    "        train_loss += loss.cpu().detach().item()\n",
    "    train_epoch_losses.append(train_loss / len(train_loader))\n",
    "    # print(f\"Epoch: {epoch + 1}, Train loss: {train_loss / len(train_loader)}\")"
   ]
  },
  {
   "cell_type": "code",
   "execution_count": 35,
   "metadata": {},
   "outputs": [
    {
     "data": {
      "image/png": "[encoded data removed]",
      "text/plain": [
       "<Figure size 640x480 with 1 Axes>"
      ]
     },
     "metadata": {},
     "output_type": "display_data"
    }
   ],
   "source": [
    "import matplotlib.pyplot as plt \n",
    "\n",
    "plt.plot(list(range(500)), train_epoch_losses)\n",
    "plt.show()"
   ]
  },
  {
   "cell_type": "code",
   "execution_count": null,
   "metadata": {},
   "outputs": [],
   "source": []
  }
 ],
 "metadata": {
  "kernelspec": {
   "display_name": "egnn",
   "language": "python",
   "name": "python3"
  },
  "language_info": {
   "codemirror_mode": {
    "name": "ipython",
    "version": 3
   },
   "file_extension": ".py",
   "mimetype": "text/x-python",
   "name": "python",
   "nbconvert_exporter": "python",
   "pygments_lexer": "ipython3",
   "version": "3.10.16"
  }
 },
 "nbformat": 4,
 "nbformat_minor": 2
}
